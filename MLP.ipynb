{
  "cells": [
    {
      "cell_type": "markdown",
      "metadata": {
        "colab_type": "text",
        "id": "view-in-github"
      },
      "source": [
        "<a href=\"https://colab.research.google.com/github/kaisacht/Project/blob/main/MLP.ipynb\" target=\"_parent\"><img src=\"https://colab.research.google.com/assets/colab-badge.svg\" alt=\"Open In Colab\"/></a>"
      ]
    },
    {
      "cell_type": "code",
      "execution_count": null,
      "metadata": {
        "id": "6hRveXG3Lb4K"
      },
      "outputs": [],
      "source": [
        "#khai báo các thư viện cần dùng\n",
        "from __future__ import print_function \n",
        "from tensorflow import keras\n",
        "import numpy as np\n",
        "import pandas as pd"
      ]
    },
    {
      "cell_type": "code",
      "execution_count": null,
      "metadata": {
        "id": "5ZRlz_ILGJga"
      },
      "outputs": [],
      "source": [
        "#khởi tạo ngẫu nhiên nhưng với các giá trị cố định\n",
        "np.random.seed(813306)"
      ]
    },
    {
      "cell_type": "code",
      "execution_count": null,
      "metadata": {
        "id": "m8L9q4eNLoWv"
      },
      "outputs": [],
      "source": [
        "#tải file lên\n",
        "from google.colab import files\n",
        "uploaded = files.upload()"
      ]
    },
    {
      "cell_type": "code",
      "execution_count": null,
      "metadata": {
        "id": "NjlJOM57LuVO"
      },
      "outputs": [],
      "source": [
        "#chia nhãn ra khỏi bộ dữ liệu\n",
        "def readucr(filename):\n",
        "    data = np.loadtxt(filename, delimiter = ',')\n",
        "    Y = data[:,0]\n",
        "    X = data[:,1:]\n",
        "    return X, Y"
      ]
    },
    {
      "cell_type": "code",
      "execution_count": null,
      "metadata": {
        "id": "HOGF6xU4LxM3"
      },
      "outputs": [],
      "source": [
        "#thực hiện train 5000 lần\n",
        "nb_epochs = 5000"
      ]
    },
    {
      "cell_type": "code",
      "execution_count": null,
      "metadata": {
        "colab": {
          "background_save": true
        },
        "id": "wXNUvGjPL0TO"
      },
      "outputs": [],
      "source": [
        "#tính lại tập train và tập test\n",
        "x_train, y_train = readucr('path file train.txt')\n",
        "x_test, y_test = readucr('path file test.txt')\n",
        "#số lượng class\n",
        "nb_classes =len(np.unique(y_test))\n",
        "#đánh lại nhãn là từ 0 do bô jduwx liệu gắn nhãn từ 1\n",
        "y_train = (y_train - y_train.min())/(y_train.max()-y_train.min())*(nb_classes-1)\n",
        "y_test = (y_test - y_test.min())/(y_test.max()-y_test.min())*(nb_classes-1)\n",
        "#tính tham số batch\n",
        "batch_size = min(x_train.shape[0]/10, 16)\n",
        "#?\n",
        "Y_train = keras.utils.to_categorical(y_train, nb_classes)\n",
        "Y_test = keras.utils.to_categorical(y_test, nb_classes)\n",
        "#tính giá trị trung bình của x   \n",
        "x_train_mean = x_train.mean()\n",
        "#tính phương sai của x\n",
        "x_train_std = x_train.std()\n",
        "#chuẩn hóa lại các giá trị của x\n",
        "x_train = (x_train - x_train_mean)/(x_train_std)\n",
        "\n",
        "# x_test_min = np.min(x_test, axis = 1, keepdims=1)\n",
        "# x_test_max = np.max(x_test, axis = 1, keepdims=1)\n",
        "x_test = (x_test - x_train_mean)/(x_train_std)\n",
        "     \n",
        "#x_train = x_train.reshape(x_train.shape + (1,))\n",
        "#x_test = x_test.reshape(x_test.shape + (1,))\n",
        "#xây dụng model\n",
        "x = keras.layers.Input(x_train.shape[1:])\n",
        "y= keras.layers.Dropout(0.1)(x)\n",
        "y = keras.layers.Dense(500, activation='relu')(y)\n",
        "y = keras.layers.Dropout(0.2)(y)\n",
        "y = keras.layers.Dense(500, activation='relu')(y)\n",
        "y = keras.layers.Dropout(0.2)(y)\n",
        "y = keras.layers.Dense(500, activation = 'relu')(y)\n",
        "y = keras.layers.Dropout(0.3)(y)\n",
        "out = keras.layers.Dense(nb_classes, activation='softmax')(y)\n",
        "\n",
        "model = keras.models.Model(inputs=x, outputs=out)\n",
        "     \n",
        "optimizer = keras.optimizers.Adadelta()    \n",
        "model.compile(loss='categorical_crossentropy',\n",
        "                  optimizer=optimizer,\n",
        "                  metrics=['accuracy'])\n",
        "     \n",
        "reduce_lr = keras.callbacks.ReduceLROnPlateau(monitor = 'loss', factor=0.5,\n",
        "                      patience=200, min_lr=0.1)\n",
        "#tranning   \n",
        "hist = model.fit(x_train, Y_train, batch_size=batch_size, epochs=nb_epochs,\n",
        "              verbose=1, validation_data=(x_test, Y_test), \n",
        "                #callbacks = [TestCallback((x_train, Y_train)), reduce_lr, keras.callbacks.TensorBoard(log_dir='./log'+fname, histogram_freq=1)])\n",
        "                 callbacks=[reduce_lr])\n",
        "    \n",
        "    #Print the testing results which has the lowest training loss.\n"
      ]
    },
    {
      "cell_type": "code",
      "execution_count": null,
      "metadata": {
        "id": "N1DjJPuQUfiE"
      },
      "outputs": [],
      "source": [
        "#in ra quá trình train\n",
        "log = pd.DataFrame(hist.history)\n",
        "print(log)"
      ]
    },
    {
      "cell_type": "code",
      "execution_count": null,
      "metadata": {
        "id": "ZGY7oR4SM1r9"
      },
      "outputs": [],
      "source": [
        "#in ra lần train có giá trị loss nhỏ nhất\n",
        "log_np = np.array(log)\n",
        "log_np\n",
        "min_index = (np.argmin(log_np, axis=0))\n",
        "print(log_np[min_index[0]])"
      ]
    }
  ],
  "metadata": {
    "colab": {
      "authorship_tag": "ABX9TyMfP7aU26lbIRwxCVehCTz4",
      "include_colab_link": true,
      "mount_file_id": "1qB6qBGjefVAuBX2VEpuZx6dSiMeEEZps",
      "provenance": []
    },
    "kernelspec": {
      "display_name": "Python 3",
      "name": "python3"
    },
    "language_info": {
      "name": "python"
    }
  },
  "nbformat": 4,
  "nbformat_minor": 0
}
