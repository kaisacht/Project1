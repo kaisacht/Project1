{
  "cells": [
    {
      "cell_type": "markdown",
      "metadata": {
        "colab_type": "text",
        "id": "view-in-github"
      },
      "source": [
        "<a href=\"https://colab.research.google.com/github/kaisacht/Project/blob/main/FCN.ipynb\" target=\"_parent\"><img src=\"https://colab.research.google.com/assets/colab-badge.svg\" alt=\"Open In Colab\"/></a>"
      ]
    },
    {
      "cell_type": "code",
      "execution_count": null,
      "metadata": {
        "id": "zHnECQBojrdE"
      },
      "outputs": [],
      "source": [
        "#Khai báo các thư viện cần dùng\n",
        "from __future__ import print_function \n",
        "from tensorflow import keras\n",
        "import numpy as np\n",
        "import pandas as pd"
      ]
    },
    {
      "cell_type": "code",
      "execution_count": null,
      "metadata": {
        "id": "6hGJK5m7F1cC"
      },
      "outputs": [],
      "source": [
        "np.random.seed(813306)"
      ]
    },
    {
      "cell_type": "code",
      "execution_count": null,
      "metadata": {
        "id": "TwNEXuWnj5-X"
      },
      "outputs": [],
      "source": [
        "#hàm tải file lên\n",
        "from google.colab import files\n",
        "uploaded = files.upload()"
      ]
    },
    {
      "cell_type": "code",
      "execution_count": null,
      "metadata": {
        "id": "GB_9a-wPkDEX"
      },
      "outputs": [],
      "source": [
        "#tách dữ liệu thành 2 phần x và nhãn y tương ứng\n",
        "def readucr(filename):\n",
        "    data = np.loadtxt(filename, delimiter = ',')\n",
        "    Y = data[:,0]\n",
        "    X = data[:,1:]\n",
        "    return X, Y"
      ]
    },
    {
      "cell_type": "code",
      "execution_count": null,
      "metadata": {
        "id": "eEszjejfkLJu"
      },
      "outputs": [],
      "source": [
        "#số lần trainning là 2000\n",
        "nb_epochs = 2000"
      ]
    },
    {
      "cell_type": "code",
      "execution_count": null,
      "metadata": {
        "id": "pfLNAR6skPRX"
      },
      "outputs": [],
      "source": [
        "#tính toán tập nhãn và dữu liệu cho tập train và test\n",
        "x_train, y_train = readucr('path file train')\n",
        "x_test, y_test = readucr('path file test')\n",
        "#tính số lượng class\n",
        "nb_classes = len(np.unique(y_test))\n",
        "#tính tham số batch\n",
        "batch_size = min(x_train.shape[0]/10, 16)\n",
        "#đánh dấu lại nhãn phải băt đầu từ 0\n",
        "y_train = (y_train - y_train.min())/(y_train.max()-y_train.min())*(nb_classes-1)\n",
        "y_test = (y_test - y_test.min())/(y_test.max()-y_test.min())*(nb_classes-1)\n",
        "#?\n",
        "Y_train = keras.utils.to_categorical(y_train, nb_classes)\n",
        "Y_test = keras.utils.to_categorical(y_test, nb_classes)\n",
        "#tính trung bình cộng của tập x\n",
        "x_train_mean = x_train.mean()\n",
        "#tính phương sai của tập x\n",
        "x_train_std = x_train.std()\n",
        "#chuẩn hóa lại tập giá trị của tập x\n",
        "x_train = (x_train - x_train_mean)/(x_train_std)\n",
        "#chuẩn hóa lại tập giá trị của tập y\n",
        "x_test = (x_test - x_train_mean)/(x_train_std)\n",
        "#chắc chắn ma trận của tập x có dạng (x.hape,1,1)\n",
        "x_train = x_train.reshape(x_train.shape + (1,1,))\n",
        "x_test = x_test.reshape(x_test.shape + (1,1,))\n",
        "#?\n",
        "x = keras.layers.Input(x_train.shape[1:])\n",
        "#    drop_out = Dropout(0.2)(x)\n",
        "conv1 = keras.layers.Conv2D(128, 8, 1, padding='same')(x)\n",
        "conv1 = keras.layers.BatchNormalization()(conv1)\n",
        "conv1 = keras.layers.Activation('relu')(conv1)\n",
        "    \n",
        "#    drop_out = Dropout(0.2)(conv1)\n",
        "conv2 = keras.layers.Conv2D(256, 5, 1, padding='same')(conv1)\n",
        "conv2 = keras.layers.BatchNormalization()(conv2)\n",
        "conv2 = keras.layers.Activation('relu')(conv2)\n",
        "    \n",
        "#    drop_out = Dropout(0.2)(conv2)\n",
        "conv3 = keras.layers.Conv2D(128, 3, 1, padding='same')(conv2)\n",
        "conv3 = keras.layers.BatchNormalization()(conv3)\n",
        "conv3 = keras.layers.Activation('relu')(conv3)\n",
        "    \n",
        "full = keras.layers.GlobalAveragePooling2D()(conv3)\n",
        "out = keras.layers.Dense(nb_classes, activation='softmax')(full)\n",
        "    \n",
        "#xây dựng model\n",
        "model = keras.models.Model(inputs=x, outputs=out)\n",
        "     \n",
        "optimizer = keras.optimizers.Adam()\n",
        "model.compile(loss='categorical_crossentropy',\n",
        "                  optimizer=optimizer,\n",
        "                  metrics=['accuracy'])\n",
        "     \n",
        "reduce_lr = keras.callbacks.ReduceLROnPlateau(monitor = 'loss', factor=0.5,\n",
        "                      patience=50, min_lr=0.0001) \n",
        "#trainning\n",
        "hist = model.fit(x_train, Y_train, batch_size=batch_size, epochs=nb_epochs,\n",
        "              verbose=1, validation_data=(x_test, Y_test), callbacks = [reduce_lr])\n",
        "    #Print the testing results which has the lowest training loss."
      ]
    },
    {
      "cell_type": "code",
      "execution_count": null,
      "metadata": {
        "id": "kWO5Svo04rtF"
      },
      "outputs": [],
      "source": [
        "#in ra lịch sử trainning\n",
        "log = pd.DataFrame(hist.history)\n",
        "print(log)"
      ]
    },
    {
      "cell_type": "code",
      "execution_count": null,
      "metadata": {
        "id": "8IN8w-xI-xxy"
      },
      "outputs": [],
      "source": [
        "#in ra lần train có hàm loss nhỏ nhất\n",
        "log_np = np.array(log)\n",
        "log_np\n",
        "min_index = (np.argmin(log_np, axis=0))\n",
        "print(log_np[min_index[0]])"
      ]
    }
  ],
  "metadata": {
    "colab": {
      "authorship_tag": "ABX9TyMhHpphupmTUYRB1EuUsKR0",
      "include_colab_link": true,
      "mount_file_id": "1b6aL00t2IKCNtSMmmuKZYgriBTGKLVlY",
      "provenance": []
    },
    "kernelspec": {
      "display_name": "Python 3",
      "name": "python3"
    },
    "language_info": {
      "name": "python"
    }
  },
  "nbformat": 4,
  "nbformat_minor": 0
}
